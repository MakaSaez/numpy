{
 "cells": [
  {
   "cell_type": "code",
   "execution_count": 12,
   "metadata": {},
   "outputs": [],
   "source": [
    "palindromo = \"anita lava la tina\""
   ]
  },
  {
   "cell_type": "code",
   "execution_count": 11,
   "metadata": {},
   "outputs": [
    {
     "name": "stdout",
     "output_type": "stream",
     "text": [
      "'anita lava las tinas' no es un palindromo =(\n"
     ]
    }
   ],
   "source": [
    "print(\"%s es un palindromo!!!!\" % palindromo) if palindromo.replace(\" \", \"\") == palindromo.replace(\" \", \"\")[::-1] else print(\"'%s' no es un palindromo =(\" % palindromo)"
   ]
  },
  {
   "cell_type": "markdown",
   "metadata": {},
   "source": [
    "# Introducción a numpy"
   ]
  },
  {
   "cell_type": "markdown",
   "metadata": {},
   "source": [
    "#### Librería optimizada para realizar cálculos numéricos con vectores y matrices"
   ]
  },
  {
   "cell_type": "code",
   "execution_count": 2,
   "metadata": {},
   "outputs": [],
   "source": [
    "import numpy as np #importar librería numpy"
   ]
  },
  {
   "cell_type": "markdown",
   "metadata": {},
   "source": [
    "#### Podemos definir arrays a partir de listas"
   ]
  },
  {
   "cell_type": "code",
   "execution_count": 16,
   "metadata": {},
   "outputs": [
    {
     "name": "stdout",
     "output_type": "stream",
     "text": [
      "<class 'numpy.ndarray'>\n"
     ]
    }
   ],
   "source": [
    "arr = np.array([[10, 11, 12, 13, 14, 15, 16, 17, 18, 19], [10, 11, 12, 13, 14, 15, 16, 17, 18, 19]])\n",
    "print(type(arr)) #definiendo un array a través de una lista y se imprime el tipo"
   ]
  },
  {
   "cell_type": "code",
   "execution_count": 17,
   "metadata": {},
   "outputs": [
    {
     "data": {
      "text/plain": [
       "(2, 10)"
      ]
     },
     "execution_count": 17,
     "metadata": {},
     "output_type": "execute_result"
    }
   ],
   "source": [
    "arr.shape #2 filas x 10 columnas"
   ]
  },
  {
   "cell_type": "code",
   "execution_count": 21,
   "metadata": {},
   "outputs": [
    {
     "name": "stdout",
     "output_type": "stream",
     "text": [
      "<class 'numpy.ndarray'>\n"
     ]
    }
   ],
   "source": [
    "lista = [10, 11, 12, 13, 14, 15, 16, 17, 18, 19] #lista inicial\n",
    "arr = np.array(lista) #nueva variable que a la que se le assigna la funcion de transformar en array la lista.\n",
    "print (type(arr))"
   ]
  },
  {
   "cell_type": "code",
   "execution_count": 23,
   "metadata": {},
   "outputs": [
    {
     "data": {
      "text/plain": [
       "[2, 4]"
      ]
     },
     "execution_count": 23,
     "metadata": {},
     "output_type": "execute_result"
    }
   ],
   "source": [
    "[2] + [4] #una forma de crear un arreglo."
   ]
  },
  {
   "cell_type": "code",
   "execution_count": 25,
   "metadata": {},
   "outputs": [],
   "source": [
    "l = [2] #\"l\" es un arreglo con un valor que es 2\n",
    "l.append(4) #a \"l\" le agregamos el valor 4"
   ]
  },
  {
   "cell_type": "code",
   "execution_count": 28,
   "metadata": {},
   "outputs": [
    {
     "data": {
      "text/plain": [
       "[2, 4]"
      ]
     },
     "execution_count": 28,
     "metadata": {},
     "output_type": "execute_result"
    }
   ],
   "source": [
    "l #llamamos el arreglo con el nuevo valor."
   ]
  },
  {
   "cell_type": "markdown",
   "metadata": {},
   "source": [
    "#### Los arrays y las listas se comportan diferente frente operaciones matematicas con números"
   ]
  },
  {
   "cell_type": "code",
   "execution_count": 22,
   "metadata": {},
   "outputs": [
    {
     "ename": "TypeError",
     "evalue": "can only concatenate list (not \"int\") to list",
     "output_type": "error",
     "traceback": [
      "\u001b[0;31m---------------------------------------------------------------------------\u001b[0m",
      "\u001b[0;31mTypeError\u001b[0m                                 Traceback (most recent call last)",
      "\u001b[0;32m<ipython-input-22-86c7ea29c23b>\u001b[0m in \u001b[0;36m<module>\u001b[0;34m\u001b[0m\n\u001b[0;32m----> 1\u001b[0;31m \u001b[0mprint\u001b[0m\u001b[0;34m(\u001b[0m\u001b[0mlista\u001b[0m \u001b[0;34m+\u001b[0m \u001b[0;36m2\u001b[0m\u001b[0;34m)\u001b[0m \u001b[0;31m# da error\u001b[0m\u001b[0;34m\u001b[0m\u001b[0;34m\u001b[0m\u001b[0m\n\u001b[0m\u001b[1;32m      2\u001b[0m \u001b[0;31m# print(arr + 2) # suma 2 a cada elemento\u001b[0m\u001b[0;34m\u001b[0m\u001b[0;34m\u001b[0m\u001b[0;34m\u001b[0m\u001b[0m\n",
      "\u001b[0;31mTypeError\u001b[0m: can only concatenate list (not \"int\") to list"
     ]
    }
   ],
   "source": [
    "print(lista + 2) # Error. Los arrays deben ser homogeneos es decir solo se pueden concatenar con elementos iguales.\n",
    "# print(arr + 2) # suma 2 a cada elemento ahora que se ha transformado la lista en array con la función np.array(lista)"
   ]
  },
  {
   "cell_type": "code",
   "execution_count": 27,
   "metadata": {},
   "outputs": [
    {
     "name": "stdout",
     "output_type": "stream",
     "text": [
      "[20 22 24 26 28 30 32 34 36 38]\n"
     ]
    }
   ],
   "source": [
    "#print(lista * 2) # duplica la lista\n",
    "print(arr * 2) # multiplica por dos cada elemento"
   ]
  },
  {
   "cell_type": "markdown",
   "metadata": {},
   "source": [
    "#### Los arrays y las listas se comportan diferente frente a operaciones con otros arrays/listas"
   ]
  },
  {
   "cell_type": "code",
   "execution_count": 34,
   "metadata": {},
   "outputs": [],
   "source": [
    "lista1 = [1, 2, 3, 4, 5]\n",
    "lista2 = [5, 4, 3, 2, 1]\n",
    "\n",
    "arr1 = np.array(lista1)\n",
    "arr2 = np.array(lista2)"
   ]
  },
  {
   "cell_type": "code",
   "execution_count": 35,
   "metadata": {},
   "outputs": [
    {
     "name": "stdout",
     "output_type": "stream",
     "text": [
      "suma de listas = [1, 2, 3, 4, 5, 5, 4, 3, 2, 1]\n",
      "suma de arreglos = [6 6 6 6 6]\n"
     ]
    }
   ],
   "source": [
    "print('suma de listas =', lista1 + lista2) # concatena (une) las dos listas\n",
    "print('suma de arreglos =', arr1 + arr2) # suma los elementos de cada arreglo como columnas"
   ]
  },
  {
   "cell_type": "code",
   "execution_count": 31,
   "metadata": {},
   "outputs": [
    {
     "name": "stdout",
     "output_type": "stream",
     "text": [
      "multiplicación de arreglos = [5 8 9 8 5]\n"
     ]
    }
   ],
   "source": [
    "# print(lista1 * lista2) # da error no se pueden multiplicar las listas\n",
    "print('multiplicación de arreglos =', arr1 * arr2) # multiplica los elementos de cada arreglo"
   ]
  },
  {
   "cell_type": "code",
   "execution_count": 32,
   "metadata": {},
   "outputs": [
    {
     "name": "stdout",
     "output_type": "stream",
     "text": [
      "resta = [-4 -2  0  2  4]\n",
      "division = [0.2 0.5 1.  2.  5. ]\n",
      "exponenciacion = [ 1 16 27 16  5]\n",
      "combinacion de operaciones = [-0.66666667 -0.66666667  0.          1.33333333  3.33333333]\n"
     ]
    }
   ],
   "source": [
    "print('resta =', arr1 - arr2) #Resta de arrays\n",
    "print('division =', arr1 / arr2) #División de arrays\n",
    "print('exponenciacion =', arr1 ** arr2) #potencias de arrays\n",
    "print('combinacion de operaciones =', (arr1 - arr2)/(arr1 + arr2) * arr1) #mezcla de operaciones"
   ]
  },
  {
   "cell_type": "markdown",
   "metadata": {},
   "source": [
    "#### Para arrays1d la indexación funciona igual que para las listas"
   ]
  },
  {
   "cell_type": "code",
   "execution_count": 33,
   "metadata": {},
   "outputs": [],
   "source": [
    "lista = [10, 11, 12, 13, 14, 15, 16, 17, 18, 19] #se declara la variable con una lista en su interior\n",
    "arr = np.array(lista) #se declara la variable arr con la función que transforma la lista en array dentro."
   ]
  },
  {
   "cell_type": "code",
   "execution_count": 34,
   "metadata": {},
   "outputs": [
    {
     "name": "stdout",
     "output_type": "stream",
     "text": [
      "10 10\n",
      "14 14\n",
      "[10, 11, 12] [10 11 12]\n",
      "[11, 12, 13, 14, 15, 16] [11 12 13 14 15 16]\n",
      "[13, 14, 15, 16, 17, 18, 19] [13 14 15 16 17 18 19]\n",
      "19 19\n",
      "[10, 11, 12, 13, 14, 15, 16, 17, 18] [10 11 12 13 14 15 16 17 18]\n",
      "[19, 18, 17, 16, 15, 14, 13, 12, 11, 10] [19 18 17 16 15 14 13 12 11 10]\n"
     ]
    }
   ],
   "source": [
    "print(lista[0], arr[0]) # devuelve el 1er elemento\n",
    "print(lista[4], arr[4]) # devuelve el 5to elemento\n",
    "print(lista[:3], arr[:3]) #devuelve los primeros 3 elementos\n",
    "print(lista[1:7], arr[1:7])#devuelve los elementos desde la posición 1 al 7 (no inclusive)\n",
    "print(lista[3:], arr[3:])#devuelve desde el 3er elemento en adelante\n",
    "print(lista[-1], arr[-1])#devuelve el último elemento\n",
    "print(lista[:-1], arr[:-1])#devuelve desde el 1er elemento al penúltimo\n",
    "print(lista[::-1], arr[::-1])#devuelve la lista en reversa"
   ]
  },
  {
   "cell_type": "code",
   "execution_count": 35,
   "metadata": {},
   "outputs": [
    {
     "name": "stdout",
     "output_type": "stream",
     "text": [
      "[10, 11, 22, 23, 24, 15, 16, 17, 18, 19]\n",
      "[10 11 22 23 24 15 16 17 18 19]\n"
     ]
    }
   ],
   "source": [
    "lista[2:5] = [22, 23, 24] #reemplaza las posiciones desde el 2do lugar al quinto por los nuevos valores\n",
    "arr[2:5] = [22, 23, 24]#reemplaza las posiciones desde el 2do lugar al quinto por los nuevos valores\n",
    "print(lista) #se imprime lista con los cambios.\n",
    "print(arr)"
   ]
  },
  {
   "cell_type": "markdown",
   "metadata": {},
   "source": [
    "# Arreglos multidimensionales"
   ]
  },
  {
   "cell_type": "markdown",
   "metadata": {},
   "source": [
    "#### Las listas son cadenas unidimensionales de elementos. Los arreglos pueden ser multidimensionales"
   ]
  },
  {
   "cell_type": "code",
   "execution_count": 40,
   "metadata": {},
   "outputs": [
    {
     "data": {
      "text/plain": [
       "array([[0, 1, 3],\n",
       "       [3, 4, 5]])"
      ]
     },
     "execution_count": 40,
     "metadata": {},
     "output_type": "execute_result"
    }
   ],
   "source": [
    "lista = [[0, 1, 3], [3, 4, 5]] #lista unidimensional con 2 lístas dentro\n",
    "array_2d = np.array(lista) #se transforma la lista en array\n",
    "array_2d #se genera el array de dos dimensiones"
   ]
  },
  {
   "cell_type": "code",
   "execution_count": 43,
   "metadata": {},
   "outputs": [
    {
     "name": "stdout",
     "output_type": "stream",
     "text": [
      "2\n"
     ]
    }
   ],
   "source": [
    "print(array_2d.ndim) #se utiliza ndim para indicar cuántas dimensiones tiene el arreglo."
   ]
  },
  {
   "cell_type": "code",
   "execution_count": 39,
   "metadata": {},
   "outputs": [
    {
     "name": "stdout",
     "output_type": "stream",
     "text": [
      "(2, 3)\n"
     ]
    }
   ],
   "source": [
    "print(array_2d.shape) #se utiliza .shape para indicar que forma tiene el arreglo, en este caso son dos filas por 3 columnas."
   ]
  },
  {
   "cell_type": "code",
   "execution_count": 40,
   "metadata": {},
   "outputs": [
    {
     "name": "stdout",
     "output_type": "stream",
     "text": [
      "6\n"
     ]
    }
   ],
   "source": [
    "print(array_2d.size) #se utiliza .size para indicar el tamaño de la muestra en este caso arroja 6 valores."
   ]
  },
  {
   "cell_type": "markdown",
   "metadata": {},
   "source": [
    "#### En scikit-learn array_2d=(samples, features)"
   ]
  },
  {
   "cell_type": "markdown",
   "metadata": {},
   "source": [
    "#### **Desafío:** armar un array 3d a partir de una lista de listas <br>\n",
    "#### Queremos que *array3d.ndim==3* devuelva *True*"
   ]
  },
  {
   "cell_type": "code",
   "execution_count": 46,
   "metadata": {
    "jupyter": {
     "source_hidden": true
    }
   },
   "outputs": [
    {
     "name": "stdout",
     "output_type": "stream",
     "text": [
      "(3, 3, 2)\n",
      "int64\n",
      "[[[0 1]\n",
      "  [2 3]\n",
      "  [4 6]]\n",
      "\n",
      " [[0 1]\n",
      "  [2 3]\n",
      "  [4 6]]\n",
      "\n",
      " [[0 1]\n",
      "  [2 3]\n",
      "  [4 6]]]\n"
     ]
    }
   ],
   "source": [
    "lista = [[0, 1], [2, 3], [4, 6]] #lista de listas\n",
    "# lista = [lista, lista]\n",
    "arr3d = np.array([lista, lista, lista]) #se define la variablle arr3d que transforma las listas en array de 3 dimensiones\n",
    "print(arr3d.shape) #se corrobora la forma de los array, son 3 matrices x 3 filas x 2 columnas\n",
    "print(arr3d.dtype)\n",
    "arr3d.ndim==3 #indicar dimensiones si es igual a 3 mostrar True\n",
    "print (arr3d)"
   ]
  },
  {
   "cell_type": "code",
   "execution_count": 48,
   "metadata": {},
   "outputs": [
    {
     "data": {
      "text/plain": [
       "dtype('O')"
      ]
     },
     "execution_count": 48,
     "metadata": {},
     "output_type": "execute_result"
    }
   ],
   "source": [
    "np.array([[1, 2], [1, 2, 3]]).dtype"
   ]
  },
  {
   "cell_type": "code",
   "execution_count": 52,
   "metadata": {},
   "outputs": [
    {
     "data": {
      "text/plain": [
       "[[0, 1], [2, 3]]"
      ]
     },
     "execution_count": 52,
     "metadata": {},
     "output_type": "execute_result"
    }
   ],
   "source": [
    "lista[0:2]"
   ]
  },
  {
   "cell_type": "code",
   "execution_count": 53,
   "metadata": {},
   "outputs": [
    {
     "data": {
      "text/plain": [
       "1"
      ]
     },
     "execution_count": 53,
     "metadata": {},
     "output_type": "execute_result"
    }
   ],
   "source": [
    "lista[0][1]"
   ]
  },
  {
   "cell_type": "code",
   "execution_count": 56,
   "metadata": {},
   "outputs": [
    {
     "data": {
      "text/plain": [
       "2"
      ]
     },
     "execution_count": 56,
     "metadata": {},
     "output_type": "execute_result"
    }
   ],
   "source": [
    "lista[0][1][0]"
   ]
  },
  {
   "cell_type": "code",
   "execution_count": 54,
   "metadata": {},
   "outputs": [
    {
     "data": {
      "text/plain": [
       "array([[[0, 1],\n",
       "        [2, 3],\n",
       "        [4, 6]],\n",
       "\n",
       "       [[0, 1],\n",
       "        [2, 3],\n",
       "        [4, 6]],\n",
       "\n",
       "       [[0, 1],\n",
       "        [2, 3],\n",
       "        [4, 6]]])"
      ]
     },
     "execution_count": 54,
     "metadata": {},
     "output_type": "execute_result"
    }
   ],
   "source": [
    "arr3d"
   ]
  },
  {
   "cell_type": "code",
   "execution_count": 69,
   "metadata": {},
   "outputs": [
    {
     "name": "stdout",
     "output_type": "stream",
     "text": [
      "3\n"
     ]
    }
   ],
   "source": [
    "# print(arr2d[0, 1])\n",
    "# print(arr3d[0, 1, 1])\n",
    "# print(arr3d[0, 1, :])\n",
    "# print(arr3d[0, 1, :2])\n",
    "# print(arr3d[0, :, /:1])\n",
    "print(arr3d[0, 1, -1])"
   ]
  },
  {
   "cell_type": "code",
   "execution_count": 73,
   "metadata": {},
   "outputs": [
    {
     "name": "stdout",
     "output_type": "stream",
     "text": [
      "[1 2 3 4 5 6] (6,)\n",
      "[[1 2 3]\n",
      " [4 5 6]] (3, 2)\n"
     ]
    }
   ],
   "source": [
    "arr = np.array([1, 2, 3, 4, 5, 6])\n",
    "print(arr, arr.shape)\n",
    "print(arr.reshape(2, 3), arr.reshape(3, 2).shape)\n"
   ]
  },
  {
   "cell_type": "markdown",
   "metadata": {},
   "source": [
    "# Creación de arreglos"
   ]
  },
  {
   "cell_type": "code",
   "execution_count": 6,
   "metadata": {},
   "outputs": [
    {
     "name": "stdout",
     "output_type": "stream",
     "text": [
      "[0. 0. 0. 0. 0. 0. 0. 0. 0. 0.]\n",
      "[[[0. 0.]\n",
      "  [0. 0.]]\n",
      "\n",
      " [[0. 0.]\n",
      "  [0. 0.]]]\n"
     ]
    }
   ],
   "source": [
    "print(np.zeros(10)) #genera un arreglo de zeros\n",
    "# print(np.zeros((3, 2)))\n",
    "#print(np.zeros((10, 5)))\n",
    "print(np.zeros((2, 2, 2)))"
   ]
  },
  {
   "cell_type": "code",
   "execution_count": null,
   "metadata": {},
   "outputs": [],
   "source": [
    "# np.ones(10)#arreglo con 1\n",
    "# np.ones((3, 2))\n",
    "# np.ones((10, 5))\n",
    "# np.ones((2, 2, 2))"
   ]
  },
  {
   "cell_type": "code",
   "execution_count": null,
   "metadata": {},
   "outputs": [],
   "source": [
    "print(np.random.rand(10), '\\n')\n",
    "print(np.random.rand(3, 2), '\\n')\n",
    "print(np.random.rand(10, 5), '\\n')\n",
    "print(np.random.rand(2, 2, 2))"
   ]
  },
  {
   "cell_type": "code",
   "execution_count": null,
   "metadata": {},
   "outputs": [],
   "source": [
    "print(np.random.randn(10), '\\n')\n",
    "print(np.random.randn(3, 2), '\\n')\n",
    "print(np.random.randn(10, 5), '\\n')\n",
    "print(np.random.randn(2, 2, 2))"
   ]
  },
  {
   "cell_type": "code",
   "execution_count": 9,
   "metadata": {},
   "outputs": [
    {
     "data": {
      "text/plain": [
       "0"
      ]
     },
     "execution_count": 9,
     "metadata": {},
     "output_type": "execute_result"
    }
   ],
   "source": [
    "np.random.randint(5) #saca un aleatoreo, según el número o funcion que le entregue"
   ]
  },
  {
   "cell_type": "code",
   "execution_count": null,
   "metadata": {},
   "outputs": [],
   "source": [
    "print(np.random.randint(10, size=10), '\\n')\n",
    "print(np.random.randint(10, size=(3, 3)), '\\n')"
   ]
  },
  {
   "cell_type": "code",
   "execution_count": 10,
   "metadata": {},
   "outputs": [
    {
     "data": {
      "text/plain": [
       "array([0. , 0.1, 0.2, 0.3, 0.4, 0.5, 0.6, 0.7, 0.8, 0.9, 1. , 1.1, 1.2,\n",
       "       1.3, 1.4, 1.5, 1.6, 1.7, 1.8, 1.9, 2. , 2.1, 2.2, 2.3, 2.4, 2.5,\n",
       "       2.6, 2.7, 2.8, 2.9, 3. , 3.1, 3.2, 3.3, 3.4, 3.5, 3.6, 3.7, 3.8,\n",
       "       3.9, 4. , 4.1, 4.2, 4.3, 4.4, 4.5, 4.6, 4.7, 4.8, 4.9, 5. , 5.1,\n",
       "       5.2, 5.3, 5.4, 5.5, 5.6, 5.7, 5.8, 5.9, 6. , 6.1, 6.2, 6.3, 6.4,\n",
       "       6.5, 6.6, 6.7, 6.8, 6.9, 7. , 7.1, 7.2, 7.3, 7.4, 7.5, 7.6, 7.7,\n",
       "       7.8, 7.9, 8. , 8.1, 8.2, 8.3, 8.4, 8.5, 8.6, 8.7, 8.8, 8.9, 9. ,\n",
       "       9.1, 9.2, 9.3, 9.4, 9.5, 9.6, 9.7, 9.8, 9.9])"
      ]
     },
     "execution_count": 10,
     "metadata": {},
     "output_type": "execute_result"
    }
   ],
   "source": [
    "# np.arange(10)\n",
    "# np.arange(0, 10, 1) # start, stop, step\n",
    "np.arange(2, 16, 2)\n",
    "np.arange(0, 10, .1)"
   ]
  },
  {
   "cell_type": "code",
   "execution_count": 12,
   "metadata": {},
   "outputs": [
    {
     "data": {
      "text/plain": [
       "array([ 0. ,  0.1,  0.2,  0.3,  0.4,  0.5,  0.6,  0.7,  0.8,  0.9,  1. ,\n",
       "        1.1,  1.2,  1.3,  1.4,  1.5,  1.6,  1.7,  1.8,  1.9,  2. ,  2.1,\n",
       "        2.2,  2.3,  2.4,  2.5,  2.6,  2.7,  2.8,  2.9,  3. ,  3.1,  3.2,\n",
       "        3.3,  3.4,  3.5,  3.6,  3.7,  3.8,  3.9,  4. ,  4.1,  4.2,  4.3,\n",
       "        4.4,  4.5,  4.6,  4.7,  4.8,  4.9,  5. ,  5.1,  5.2,  5.3,  5.4,\n",
       "        5.5,  5.6,  5.7,  5.8,  5.9,  6. ,  6.1,  6.2,  6.3,  6.4,  6.5,\n",
       "        6.6,  6.7,  6.8,  6.9,  7. ,  7.1,  7.2,  7.3,  7.4,  7.5,  7.6,\n",
       "        7.7,  7.8,  7.9,  8. ,  8.1,  8.2,  8.3,  8.4,  8.5,  8.6,  8.7,\n",
       "        8.8,  8.9,  9. ,  9.1,  9.2,  9.3,  9.4,  9.5,  9.6,  9.7,  9.8,\n",
       "        9.9, 10. ])"
      ]
     },
     "execution_count": 12,
     "metadata": {},
     "output_type": "execute_result"
    }
   ],
   "source": [
    "np.linspace(0, 10, 70) # start, stop, length\n",
    "np.linspace(0, 10, 101)"
   ]
  },
  {
   "cell_type": "code",
   "execution_count": 14,
   "metadata": {},
   "outputs": [
    {
     "data": {
      "text/plain": [
       "array([0., 0., 0., 0., 0., 0., 1.])"
      ]
     },
     "execution_count": 14,
     "metadata": {},
     "output_type": "execute_result"
    }
   ],
   "source": [
    "np.append(np.zeros(6), 1.)\n",
    "# np.append(np.zeros(5), np.ones(5))\n",
    "# np.concatenate((np.zeros(5), np.ones(5), np.arange(5)))\n",
    "# np.stack((np.zeros(5), np.ones(5)), axis=0)\n",
    "# np.stack((np.zeros(5), np.ones(5)), axis=1)"
   ]
  },
  {
   "cell_type": "code",
   "execution_count": null,
   "metadata": {},
   "outputs": [],
   "source": [
    "# print(np.nan, np.inf)\n",
    "# print(np.exp(1000))\n",
    "np.zeros((10, 10)) * np.nan"
   ]
  },
  {
   "cell_type": "markdown",
   "metadata": {},
   "source": [
    "**Desafío:** crear un array 1d de longitud 10 que tenga el número 5 en todas sus posiciones <br>\n",
    "**Desafío:** crear un array 1d que tenga todos los números del 1 al 40 pero con todos los pares primero y los impares después <br>\n",
    "**Desafío usando google:** crear un array 1d de longitud 20 que tenga los números del 1 al 20 desordenados <br>"
   ]
  },
  {
   "cell_type": "code",
   "execution_count": null,
   "metadata": {},
   "outputs": [],
   "source": [
    "#np.ones(10) * 5\n",
    "np.append(np.arange(2, 42, 2), np.arange(1, 40, 2))"
   ]
  },
  {
   "cell_type": "markdown",
   "metadata": {},
   "source": [
    "# Funciones"
   ]
  },
  {
   "cell_type": "markdown",
   "metadata": {},
   "source": [
    "## Promedio o media\n",
    "$$\n",
    "X = (x_1, x_2,...,x_N)\n",
    "$$\n",
    "\n",
    "$$\n",
    "\\bar{x}=\\frac{1}{N}\\sum_{n=1}^{N} x_n\n",
    "$$\n",
    "\n",
    "#### Valor esperado"
   ]
  },
  {
   "cell_type": "code",
   "execution_count": null,
   "metadata": {},
   "outputs": [],
   "source": [
    "X = np.ones(7) * 4\n",
    "print(X)\n",
    "print(np.mean(X))"
   ]
  },
  {
   "cell_type": "code",
   "execution_count": null,
   "metadata": {},
   "outputs": [],
   "source": [
    "X = np.arange(2, 7)\n",
    "np.random.shuffle(X)\n",
    "print(X)\n",
    "print(np.mean(X))"
   ]
  },
  {
   "cell_type": "code",
   "execution_count": null,
   "metadata": {},
   "outputs": [],
   "source": [
    "X = np.arange(1, 8)\n",
    "print(X)\n",
    "print(np.mean(X))"
   ]
  },
  {
   "cell_type": "code",
   "execution_count": null,
   "metadata": {},
   "outputs": [],
   "source": [
    "X = np.arange(1, 10).reshape(3, 3)\n",
    "print(X, '\\n')\n",
    "print(np.mean(X, 0), '\\n') # o np.mean(X, axis=0)\n",
    "print(np.mean(X, 1)) # o np.mean(X, axis=1)"
   ]
  },
  {
   "cell_type": "code",
   "execution_count": null,
   "metadata": {},
   "outputs": [],
   "source": [
    "np.mean?"
   ]
  },
  {
   "cell_type": "markdown",
   "metadata": {},
   "source": [
    "## Varianza\n",
    "$$\n",
    "\\sigma_x=\\frac{1}{N}\\sum_{n=1}^{N} (x_n - \\bar{x})^2\n",
    "$$\n",
    "\n",
    "#### Mide la dispersión de los valores alrededor de la media"
   ]
  },
  {
   "cell_type": "code",
   "execution_count": null,
   "metadata": {},
   "outputs": [],
   "source": [
    "X = np.ones(7) * 4\n",
    "print(X)\n",
    "print(np.var(X))"
   ]
  },
  {
   "cell_type": "code",
   "execution_count": null,
   "metadata": {},
   "outputs": [],
   "source": [
    "X = np.arange(2, 7)\n",
    "print(X)\n",
    "print(np.var(X))"
   ]
  },
  {
   "cell_type": "code",
   "execution_count": null,
   "metadata": {},
   "outputs": [],
   "source": [
    "X = np.arange(1, 8)\n",
    "print(X)\n",
    "print(np.var(X))"
   ]
  },
  {
   "cell_type": "code",
   "execution_count": null,
   "metadata": {},
   "outputs": [],
   "source": [
    "X = np.arange(1, 10).reshape(3, 3)\n",
    "print(X, '\\n')\n",
    "print(np.var(X, 0), '\\n') # o np.var(X, axis=0)\n",
    "print(np.var(X, 1)) # o np.var(X, axis=1)"
   ]
  },
  {
   "cell_type": "markdown",
   "metadata": {},
   "source": [
    "Otras"
   ]
  },
  {
   "cell_type": "code",
   "execution_count": null,
   "metadata": {},
   "outputs": [],
   "source": [
    "X = np.arange(-3, 4)\n",
    "print(X)\n",
    "print(np.min(X))\n",
    "print(np.max(X))\n",
    "print(np.sum(X))\n",
    "# también funcionan con axis"
   ]
  },
  {
   "cell_type": "code",
   "execution_count": null,
   "metadata": {},
   "outputs": [],
   "source": [
    "X = np.arange(-3, 4)\n",
    "print(np.abs(X))\n",
    "print(np.sign(X))"
   ]
  },
  {
   "cell_type": "code",
   "execution_count": null,
   "metadata": {},
   "outputs": [],
   "source": [
    "X = np.arange(1, 8)\n",
    "np.random.shuffle(X)\n",
    "print(X)\n",
    "arg_min = np.argmin(X)\n",
    "arg_max = np.argmax(X)\n",
    "print(arg_min, X[arg_min])\n",
    "print(arg_max, X[arg_max])"
   ]
  },
  {
   "cell_type": "code",
   "execution_count": null,
   "metadata": {},
   "outputs": [],
   "source": [
    "X = np.arange(1, 8) + 0.7\n",
    "print(X)\n",
    "print(np.round(X, 0))"
   ]
  },
  {
   "cell_type": "markdown",
   "metadata": {},
   "source": [
    "# Máscaras booleanas\n",
    "se van a usar mucho"
   ]
  },
  {
   "cell_type": "code",
   "execution_count": null,
   "metadata": {},
   "outputs": [],
   "source": [
    "arr = np.array([0., 1.])\n",
    "mask = np.array([True, False])\n",
    "print(mask)\n",
    "print(mask.dtype)\n",
    "print(arr)\n",
    "print(arr.dtype)"
   ]
  },
  {
   "cell_type": "code",
   "execution_count": null,
   "metadata": {},
   "outputs": [],
   "source": [
    "arr = np.arange(10)\n",
    "print(arr)\n",
    "print(arr > 3)\n",
    "print(~(arr > 3))\n",
    "print((arr > 3) & (arr < 8))\n",
    "print((arr < 3) | (arr > 8))"
   ]
  },
  {
   "cell_type": "markdown",
   "metadata": {},
   "source": [
    "#### Puedo filtrar datos\n",
    "Entender muy bien que es MASK y su diferencia con una operación para filtrar"
   ]
  },
  {
   "cell_type": "code",
   "execution_count": null,
   "metadata": {},
   "outputs": [],
   "source": [
    "arr = np.array([5., 10.])\n",
    "mask = np.array([True, False])\n",
    "print(arr[mask])"
   ]
  },
  {
   "cell_type": "code",
   "execution_count": null,
   "metadata": {},
   "outputs": [],
   "source": [
    "arr = np.arange(10)\n",
    "mask = (arr > 3) & (arr < 8)\n",
    "print(arr[mask])"
   ]
  },
  {
   "cell_type": "markdown",
   "metadata": {},
   "source": [
    "#### Devuelvo siempre un array 1d"
   ]
  },
  {
   "cell_type": "code",
   "execution_count": null,
   "metadata": {},
   "outputs": [],
   "source": [
    "arr = np.arange(10).reshape(2, 5)\n",
    "mask = (arr > 3) & (arr < 8)\n",
    "print(arr)\n",
    "print(arr[mask])"
   ]
  },
  {
   "cell_type": "markdown",
   "metadata": {},
   "source": [
    "#### Puedo usar *np.zeros* y *np.ones* para crear arrays de False y True"
   ]
  },
  {
   "cell_type": "code",
   "execution_count": null,
   "metadata": {},
   "outputs": [],
   "source": [
    "np.zeros(10, dtype=bool)\n",
    "# np.ones(10, dtype=bool)"
   ]
  },
  {
   "cell_type": "markdown",
   "metadata": {},
   "source": [
    "#### np.any y np.all"
   ]
  },
  {
   "cell_type": "code",
   "execution_count": null,
   "metadata": {},
   "outputs": [],
   "source": [
    "mask = np.zeros(10, dtype=bool)\n",
    "print(mask, '  any=', np.any(mask))\n",
    "mask[5] = True\n",
    "print(mask, '  any=', np.any(mask))"
   ]
  },
  {
   "cell_type": "code",
   "execution_count": null,
   "metadata": {},
   "outputs": [],
   "source": [
    "mask = np.ones(10, dtype=bool)\n",
    "print(mask, '  all=', np.all(mask))\n",
    "mask[5] = False\n",
    "print(mask, '  all=', np.all(mask))"
   ]
  },
  {
   "cell_type": "code",
   "execution_count": null,
   "metadata": {},
   "outputs": [],
   "source": [
    "mask = np.array(np.random.randint(2, size=(3, 3)), dtype=bool)\n",
    "print(mask, '\\n')\n",
    "print(np.all(mask, 0), '\\n')\n",
    "print(np.all(mask, 1))"
   ]
  },
  {
   "cell_type": "code",
   "execution_count": 15,
   "metadata": {},
   "outputs": [
    {
     "name": "stdout",
     "output_type": "stream",
     "text": [
      "[False False False False  True False  True  True False  True] \n",
      "\n",
      "(array([4, 6, 7, 9]),) \n",
      "\n"
     ]
    }
   ],
   "source": [
    "mask = np.array(np.random.randint(2, size=10), dtype=bool)\n",
    "print(mask, '\\n')\n",
    "print(np.where(mask), '\\n')"
   ]
  },
  {
   "cell_type": "code",
   "execution_count": 16,
   "metadata": {},
   "outputs": [
    {
     "name": "stdout",
     "output_type": "stream",
     "text": [
      "[[ True  True False]\n",
      " [False False  True]\n",
      " [ True False  True]] \n",
      "\n",
      "(array([0, 0, 1, 2, 2]), array([0, 1, 2, 0, 2])) \n",
      "\n"
     ]
    }
   ],
   "source": [
    "mask = np.array(np.random.randint(2, size=(3, 3)), dtype=bool)\n",
    "print(mask, '\\n')\n",
    "print(np.where(mask), '\\n') #esto se va usar mucho, te muestra donde están los que cumplen la función."
   ]
  },
  {
   "cell_type": "markdown",
   "metadata": {},
   "source": [
    "# Ejercicios"
   ]
  },
  {
   "cell_type": "markdown",
   "metadata": {},
   "source": [
    "1. Crear un arreglo de ceros de longitud 12\n",
    "2. Crear un arreglo de longitud 10 con ceros en todas sus posiciones y un 10 en la posición número 5\n",
    "3. Crear un arreglo que tenga los números del 10 al 49\n",
    "4. Crear una arreglo 2d de shape (3, 3) que tenga los números del 0 al 8\n",
    "5. Crear un arreglo de números aleatorios de longitud 100 y obtener su media y varianza\n",
    "6. Calcular la media de un arreglo usando np.sum\n",
    "7. Calcular la varianza de un arreglo usando np.sum y np.mean\n",
    "8. Crear un array de números aleatorios usando np.random.randn y llenar con ceros todas las posiciones menores a 0 usando una máscara\n",
    "9. Crear el array np.arange(10) e insertar el número 0 en todos los valores pares usando una máscara\n",
    "10. Crear un arreglo de números aleatorios de longitud 10. Hallar el valor mínimo y reemplazarlo por 0"
   ]
  }
 ],
 "metadata": {
  "kernelspec": {
   "display_name": "Python 3",
   "language": "python",
   "name": "python3"
  },
  "language_info": {
   "codemirror_mode": {
    "name": "ipython",
    "version": 3
   },
   "file_extension": ".py",
   "mimetype": "text/x-python",
   "name": "python",
   "nbconvert_exporter": "python",
   "pygments_lexer": "ipython3",
   "version": "3.7.3"
  }
 },
 "nbformat": 4,
 "nbformat_minor": 4
}
